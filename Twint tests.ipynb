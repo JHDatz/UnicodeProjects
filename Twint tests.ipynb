{
 "cells": [
  {
   "cell_type": "code",
   "execution_count": 1,
   "metadata": {},
   "outputs": [],
   "source": [
    "import twint\n",
    "import nest_asyncio\n",
    "import os\n",
    "import pandas as pd\n",
    "\n",
    "nest_asyncio.apply()"
   ]
  },
  {
   "cell_type": "code",
   "execution_count": 2,
   "metadata": {},
   "outputs": [],
   "source": [
    "file = open('accountList.txt')\n",
    "text = file.readlines()\n",
    "file.close()\n",
    "userids = [userid.rstrip('\\n') for userid in text]\n",
    "os.chdir(os.getcwd() + '\\\\TweetData')"
   ]
  },
  {
   "cell_type": "code",
   "execution_count": 3,
   "metadata": {},
   "outputs": [],
   "source": [
    "for usernames in userids:\n",
    "\n",
    "    c = twint.Config()\n",
    "    c.Username = usernames\n",
    "    c.Limit = 100\n",
    "    c.Store_csv = True\n",
    "    c.Output = usernames + \".csv\"\n",
    "    c.Hide_output=True\n",
    "\n",
    "    twint.run.Search(c)\n",
    "    \n",
    "os.chdir(os.getcwd().rstrip('\\\\TweetData'))"
   ]
  },
  {
   "cell_type": "code",
   "execution_count": 4,
   "metadata": {},
   "outputs": [],
   "source": [
    "dataList = [pd.read_csv(os.getcwd()  + '\\\\TweetData\\\\' + files) \n",
    "            for files in os.listdir(os.getcwd()  + '\\\\TweetData')]\n",
    "\n",
    "data = pd.read_csv('merged.csv')\n",
    "\n",
    "for i in range(len(dataList)):\n",
    "    data = data.append(dataList[i])\n",
    "    \n",
    "data = data.drop_duplicates()\n",
    "data.to_csv('merged.csv', index=False)"
   ]
  },
  {
   "cell_type": "code",
   "execution_count": null,
   "metadata": {},
   "outputs": [],
   "source": []
  }
 ],
 "metadata": {
  "kernelspec": {
   "display_name": "Python 3",
   "language": "python",
   "name": "python3"
  },
  "language_info": {
   "codemirror_mode": {
    "name": "ipython",
    "version": 3
   },
   "file_extension": ".py",
   "mimetype": "text/x-python",
   "name": "python",
   "nbconvert_exporter": "python",
   "pygments_lexer": "ipython3",
   "version": "3.8.5"
  }
 },
 "nbformat": 4,
 "nbformat_minor": 4
}
