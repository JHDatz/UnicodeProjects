{
 "cells": [
  {
   "cell_type": "code",
   "execution_count": 1,
   "metadata": {},
   "outputs": [
    {
     "name": "stdout",
     "output_type": "stream",
     "text": [
      "1299\n"
     ]
    }
   ],
   "source": [
    "from bs4 import BeautifulSoup\n",
    "import requests\n",
    "from selenium import webdriver\n",
    "import time\n",
    "\n",
    "def helper_function2(subSoup):\n",
    "    return subSoup.find('a', {'class': 'source-title'})['href']\n",
    "\n",
    "page = webdriver.Firefox()\n",
    "page.get('https://www.nbcsportsedge.com/edge/baseball/mlb/player-news')\n",
    "time.sleep(10)\n",
    "\n",
    "soup = BeautifulSoup(page.page_source, 'html.parser')\n",
    "page.close()\n",
    "\n",
    "#page.find_element_by_xpath('/html/body/div[3]/div[4]/div[2]/div/div[2]/div/div/div/div/div[2]/a[2]').click()\n",
    "\n",
    "soup.find_all('div', {'class':'player-news-article__source'})\n",
    "links = [helper_function2(subSoup) for subSoup in soup.find_all('div', {'class':'player-news-article__source'})]\n",
    "filtered_links = [filtered_links for filtered_links in links if 'twitter' in filtered_links]\n",
    "accounts = set([links.split('/')[3] for links in filtered_links])\n",
    "accounts = {accountNames + '\\n' for accountNames in accounts}\n",
    "\n",
    "file = open('accountList.txt', 'r')\n",
    "text = file.readlines()\n",
    "file.close()\n",
    "\n",
    "with open('accountList.txt', 'w') as myfile:\n",
    "    for twitterAccounts in set(text).union(accounts):\n",
    "        myfile.write(twitterAccounts)\n",
    "        \n",
    "print(len(set(text).union(accounts)))"
   ]
  },
  {
   "cell_type": "code",
   "execution_count": null,
   "metadata": {},
   "outputs": [],
   "source": []
  }
 ],
 "metadata": {
  "kernelspec": {
   "display_name": "Python 3",
   "language": "python",
   "name": "python3"
  },
  "language_info": {
   "codemirror_mode": {
    "name": "ipython",
    "version": 3
   },
   "file_extension": ".py",
   "mimetype": "text/x-python",
   "name": "python",
   "nbconvert_exporter": "python",
   "pygments_lexer": "ipython3",
   "version": "3.8.5"
  }
 },
 "nbformat": 4,
 "nbformat_minor": 4
}
