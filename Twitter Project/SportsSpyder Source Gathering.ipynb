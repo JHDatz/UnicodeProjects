{
 "cells": [
  {
   "cell_type": "code",
   "execution_count": null,
   "metadata": {},
   "outputs": [],
   "source": [
    "from selenium import webdriver\n",
    "import time\n",
    "from bs4 import BeautifulSoup\n",
    "import schedule \n",
    "import time\n",
    "\n",
    "file = open('brokenList.txt', 'r')\n",
    "text = file.readlines()\n",
    "file.close()\n",
    "\n",
    "file = open('toBeFixed.txt', 'r')\n",
    "text2 = file.readlines()\n",
    "file.close()\n",
    "\n",
    "text.append(text2)\n",
    "\n",
    "\n",
    "def func():\n",
    "    page = webdriver.Firefox()\n",
    "    page.get('https://sportspyder.com/sports/mlb/tweets')\n",
    "    time.sleep(10)\n",
    "\n",
    "    soup = BeautifulSoup(page.page_source, 'html.parser')\n",
    "    page.close()\n",
    "\n",
    "    accounts = [subSoup.getText().lstrip('@') for subSoup in soup.find_all('span', {'class':'username'})]\n",
    "    \n",
    "    accounts = {accountNames + '\\n' for accountNames in accounts}\n",
    "    file = open('accountList.txt', 'r')\n",
    "    text = file.readlines()\n",
    "    file.close()\n",
    "\n",
    "    with open('accountList.txt', 'w') as myfile:\n",
    "        for twitterAccounts in set(text).union(accounts):\n",
    "            if twitterAccounts not in text:\n",
    "                myfile.write(twitterAccounts)\n",
    "        \n",
    "    print(len(set(text).union(accounts)))\n",
    "\n",
    "schedule.every(3).minutes.do(func)\n",
    "\n",
    "while True:\n",
    "    schedule.run_pending()\n",
    "    time.sleep(3)"
   ]
  },
  {
   "cell_type": "code",
   "execution_count": null,
   "metadata": {},
   "outputs": [],
   "source": []
  }
 ],
 "metadata": {
  "kernelspec": {
   "display_name": "Python 3",
   "language": "python",
   "name": "python3"
  },
  "language_info": {
   "codemirror_mode": {
    "name": "ipython",
    "version": 3
   },
   "file_extension": ".py",
   "mimetype": "text/x-python",
   "name": "python",
   "nbconvert_exporter": "python",
   "pygments_lexer": "ipython3",
   "version": "3.8.5"
  }
 },
 "nbformat": 4,
 "nbformat_minor": 4
}
