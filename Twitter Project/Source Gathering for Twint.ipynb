{
 "cells": [
  {
   "cell_type": "code",
   "execution_count": 1,
   "metadata": {},
   "outputs": [],
   "source": [
    "from bs4 import BeautifulSoup\n",
    "import requests\n",
    "from selenium import webdriver\n",
    "import time\n",
    "\n",
    "page = webdriver.Firefox()\n",
    "page.get('https://www.rotowire.com/baseball/news.php?injuries=all')\n",
    "\n",
    "time.sleep(10)\n",
    "soup = BeautifulSoup(page.page_source, 'html.parser')\n",
    "page.close()"
   ]
  },
  {
   "cell_type": "code",
   "execution_count": 2,
   "metadata": {},
   "outputs": [],
   "source": [
    "hyperlinks = [subSoup.find_all('a') for subSoup in soup.find_all('div', {'class':'news-update is-injured'})]\n",
    "hyperlinks = [links for nested_hyperlinks in hyperlinks for links in nested_hyperlinks]\n",
    "hyperlinks = [subSoup['href'] for subSoup in hyperlinks if 'twitter' in subSoup['href']]\n",
    "accounts = set([twitterLink.split('/')[3] for twitterLink in hyperlinks])\n",
    "accounts = {accountNames + '\\n' for accountNames in accounts}"
   ]
  },
  {
   "cell_type": "code",
   "execution_count": 3,
   "metadata": {},
   "outputs": [],
   "source": [
    "file = open('accountList.txt', 'r')\n",
    "text = file.readlines()\n",
    "file.close()\n",
    "\n",
    "with open('accountList.txt', 'w') as myfile:\n",
    "    for twitterAccounts in set(text).union(accounts):\n",
    "        myfile.write(twitterAccounts)"
   ]
  },
  {
   "cell_type": "code",
   "execution_count": 5,
   "metadata": {},
   "outputs": [
    {
     "data": {
      "text/plain": [
       "45"
      ]
     },
     "execution_count": 5,
     "metadata": {},
     "output_type": "execute_result"
    }
   ],
   "source": [
    "len(set(text).union(accounts))"
   ]
  },
  {
   "cell_type": "code",
   "execution_count": null,
   "metadata": {},
   "outputs": [],
   "source": []
  }
 ],
 "metadata": {
  "kernelspec": {
   "display_name": "Python 3",
   "language": "python",
   "name": "python3"
  },
  "language_info": {
   "codemirror_mode": {
    "name": "ipython",
    "version": 3
   },
   "file_extension": ".py",
   "mimetype": "text/x-python",
   "name": "python",
   "nbconvert_exporter": "python",
   "pygments_lexer": "ipython3",
   "version": "3.8.5"
  }
 },
 "nbformat": 4,
 "nbformat_minor": 4
}
