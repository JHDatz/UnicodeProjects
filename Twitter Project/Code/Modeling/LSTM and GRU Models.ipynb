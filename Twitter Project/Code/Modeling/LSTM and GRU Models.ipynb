{
 "cells": [
  {
   "cell_type": "code",
   "execution_count": 1,
   "metadata": {
    "executionInfo": {
     "elapsed": 134,
     "status": "ok",
     "timestamp": 1629606410620,
     "user": {
      "displayName": "Joe D",
      "photoUrl": "https://lh3.googleusercontent.com/a-/AOh14Gh2FrpIrd824DHZWY69enxP1d0F3o6clM5Xb-cPBQ=s64",
      "userId": "15941325840610879189"
     },
     "user_tz": 240
    },
    "id": "lD1fRbvNq5GA"
   },
   "outputs": [],
   "source": [
    "#for data analysis and modeling\n",
    "%matplotlib inline\n",
    "import tensorflow as tf\n",
    "from tensorflow.keras.layers import LSTM, GRU, Dense, Embedding, Dropout\n",
    "from tensorflow.keras.preprocessing import text, sequence \n",
    "from tensorflow.keras.models import Sequential, model_from_json\n",
    "from sklearn.model_selection import train_test_split\n",
    "from sklearn.metrics import confusion_matrix\n",
    "import pandas as pd\n",
    "import numpy as np\n",
    "#for text cleaning\n",
    "import string\n",
    "import re\n",
    "import nltk\n",
    "from nltk.tokenize import word_tokenize\n",
    "from nltk.corpus import stopwords\n",
    "#for visualization\n",
    "import matplotlib.pyplot as plt"
   ]
  },
  {
   "cell_type": "code",
   "execution_count": 2,
   "metadata": {
    "colab": {
     "base_uri": "https://localhost:8080/"
    },
    "executionInfo": {
     "elapsed": 478,
     "status": "ok",
     "timestamp": 1629548856011,
     "user": {
      "displayName": "Joe D",
      "photoUrl": "https://lh3.googleusercontent.com/a-/AOh14Gh2FrpIrd824DHZWY69enxP1d0F3o6clM5Xb-cPBQ=s64",
      "userId": "15941325840610879189"
     },
     "user_tz": 240
    },
    "id": "oixFkJg_rAZN",
    "outputId": "d662da9b-a19e-42ad-b326-666e29247b4c"
   },
   "outputs": [
    {
     "name": "stdout",
     "output_type": "stream",
     "text": [
      "(6384, 2)\n",
      "(2129, 2)\n"
     ]
    }
   ],
   "source": [
    "# Get Data and store on a Pandas Dataframe.\n",
    "\n",
    "df = pd.read_csv('clean.csv')\n",
    "\n",
    "# Check to make sure we only have positive and negative labels. Once done,\n",
    "# We can convert to categorical data.\n",
    "\n",
    "assert set(df['injury_report'].values) == set([0, 1])\n",
    "\n",
    "df.injury_report = pd.Categorical(df.injury_report)\n",
    "df['injury_report'] = df['injury_report'].cat.codes\n",
    "df = df.dropna()\n",
    "\n",
    "# We only desire the tweet and the injury report columns, so let's\n",
    "# eliminate the others.\n",
    "\n",
    "df_new = df[[\"tweet\", \"injury_report\"]]\n",
    "df_new1 = df_new[df_new['injury_report']==0]\n",
    "df_new2 = df_new[df_new['injury_report']==1]\n",
    "\n",
    "df_new1 = df_new1.sample(6000, replace = True)\n",
    "df_new = pd.concat([df_new1,df_new2])\n",
    "\n",
    "df_new.reset_index(drop = True, inplace = True)\n",
    "\n",
    "# Split the Data into training and test sets.\n",
    "\n",
    "X_train, X_test, y_train, y_test = train_test_split(df_new['tweet'], \n",
    "                                                    df_new['injury_report'], \n",
    "                                                   random_state = 91, \n",
    "                                                    stratify = df_new['injury_report'], \n",
    "                                                    test_size = 0.2)\n",
    "\n",
    "train = pd.concat([X_train, y_train], axis = 1)\n",
    "test = pd.concat([X_test, y_test], axis = 1)\n",
    "\n",
    "train, test = train_test_split(df_new, random_state=91)\n",
    "\n",
    "print(train.shape)\n",
    "print(test.shape)"
   ]
  },
  {
   "cell_type": "code",
   "execution_count": 3,
   "metadata": {
    "executionInfo": {
     "elapsed": 546,
     "status": "ok",
     "timestamp": 1629606526486,
     "user": {
      "displayName": "Joe D",
      "photoUrl": "https://lh3.googleusercontent.com/a-/AOh14Gh2FrpIrd824DHZWY69enxP1d0F3o6clM5Xb-cPBQ=s64",
      "userId": "15941325840610879189"
     },
     "user_tz": 240
    },
    "id": "DHkHAEd5rkA8"
   },
   "outputs": [],
   "source": [
    "X_train, y_train = train['tweet'], train['injury_report']\n",
    "X_test, y_test = test['tweet'], test['injury_report']\n",
    "\n",
    "max_len = X_train.apply(lambda x: len(x)).max()\n",
    "\n",
    "max_words = 10000\n",
    "tokenizer = text.Tokenizer(num_words = max_words)\n",
    "# create the vocabulary by fitting on x_train text\n",
    "tokenizer.fit_on_texts(X_train)\n",
    "# generate the sequence of tokens\n",
    "X_train_seq = tokenizer.texts_to_sequences(X_train)\n",
    "X_test_seq = tokenizer.texts_to_sequences(X_test)\n",
    "\n",
    "# pad the sequences\n",
    "X_train_pad = sequence.pad_sequences(X_train_seq, maxlen=max_len)\n",
    "X_test_pad = sequence.pad_sequences(X_test_seq, maxlen=max_len)\n",
    "word_index = tokenizer.word_index"
   ]
  },
  {
   "cell_type": "code",
   "execution_count": 4,
   "metadata": {
    "colab": {
     "base_uri": "https://localhost:8080/"
    },
    "executionInfo": {
     "elapsed": 226378,
     "status": "ok",
     "timestamp": 1629606856286,
     "user": {
      "displayName": "Joe D",
      "photoUrl": "https://lh3.googleusercontent.com/a-/AOh14Gh2FrpIrd824DHZWY69enxP1d0F3o6clM5Xb-cPBQ=s64",
      "userId": "15941325840610879189"
     },
     "user_tz": 240
    },
    "id": "2pp7MQXNrxn9",
    "outputId": "69ee4694-4bfe-4c1f-f696-a6ae08025c83"
   },
   "outputs": [
    {
     "name": "stdout",
     "output_type": "stream",
     "text": [
      "Some out of valubulary words: ['covid', 'he’s', 'it’s', \"tonight's\", \"he'll\"]\n",
      "2539 out of 10000 words were OOV.\n"
     ]
    }
   ],
   "source": [
    "embedding_vectors = {}\n",
    "\n",
    "with open('glove.42B.300d.txt','r',encoding='utf-8') as file:\n",
    "    for row in file:\n",
    "        values = row.split(' ')\n",
    "        word = values[0]\n",
    "        weights = np.asarray([float(val) for val in values[1:]])\n",
    "        embedding_vectors[word] = weights\n",
    "\n",
    "#initialize the embedding_matrix with zeros\n",
    "emb_dim = 300\n",
    "if max_words is not None: \n",
    "    vocab_len = max_words \n",
    "else:\n",
    "    vocab_len = len(word_index)+1\n",
    "embedding_matrix = np.zeros((vocab_len, emb_dim))\n",
    "oov_count = 0\n",
    "oov_words = []\n",
    "for word, idx in word_index.items():\n",
    "    if idx < vocab_len:\n",
    "        embedding_vector = embedding_vectors.get(word)\n",
    "        if embedding_vector is not None:\n",
    "            embedding_matrix[idx] = embedding_vector\n",
    "        else:\n",
    "            oov_count += 1 \n",
    "            oov_words.append(word)\n",
    "#print some of the out of vocabulary words\n",
    "print(f'Some out of valubulary words: {oov_words[0:5]}')\n",
    "print(f'{oov_count} out of {vocab_len} words were OOV.')"
   ]
  },
  {
   "cell_type": "code",
   "execution_count": 5,
   "metadata": {
    "colab": {
     "base_uri": "https://localhost:8080/"
    },
    "executionInfo": {
     "elapsed": 975,
     "status": "ok",
     "timestamp": 1629606857253,
     "user": {
      "displayName": "Joe D",
      "photoUrl": "https://lh3.googleusercontent.com/a-/AOh14Gh2FrpIrd824DHZWY69enxP1d0F3o6clM5Xb-cPBQ=s64",
      "userId": "15941325840610879189"
     },
     "user_tz": 240
    },
    "id": "21NMiPPPsnbb",
    "outputId": "707e2fb9-bf5d-429c-bbdd-3e2d9eeabc6b"
   },
   "outputs": [
    {
     "name": "stdout",
     "output_type": "stream",
     "text": [
      "Model: \"sequential\"\n",
      "_________________________________________________________________\n",
      "Layer (type)                 Output Shape              Param #   \n",
      "=================================================================\n",
      "embedding (Embedding)        (None, None, 300)         3000000   \n",
      "_________________________________________________________________\n",
      "lstm (LSTM)                  (None, 128)               219648    \n",
      "_________________________________________________________________\n",
      "dropout (Dropout)            (None, 128)               0         \n",
      "_________________________________________________________________\n",
      "dense (Dense)                (None, 1)                 129       \n",
      "=================================================================\n",
      "Total params: 3,219,777\n",
      "Trainable params: 219,777\n",
      "Non-trainable params: 3,000,000\n",
      "_________________________________________________________________\n",
      "None\n",
      "Epoch 1/10\n",
      "25/25 [==============================] - 37s 1s/step - loss: 0.5701 - accuracy: 0.7285 - val_loss: 0.3859 - val_accuracy: 0.8675\n",
      "Epoch 2/10\n",
      "25/25 [==============================] - 36s 1s/step - loss: 0.3132 - accuracy: 0.8877 - val_loss: 0.2680 - val_accuracy: 0.9089\n",
      "Epoch 3/10\n",
      "25/25 [==============================] - 41s 2s/step - loss: 0.2101 - accuracy: 0.9334 - val_loss: 0.1758 - val_accuracy: 0.9413\n",
      "Epoch 4/10\n",
      "25/25 [==============================] - 43s 2s/step - loss: 0.1562 - accuracy: 0.9507 - val_loss: 0.1587 - val_accuracy: 0.9474\n",
      "Epoch 5/10\n",
      "25/25 [==============================] - 41s 2s/step - loss: 0.1327 - accuracy: 0.9583 - val_loss: 0.1559 - val_accuracy: 0.9465\n",
      "Epoch 6/10\n",
      "25/25 [==============================] - 46s 2s/step - loss: 0.1266 - accuracy: 0.9612 - val_loss: 0.1433 - val_accuracy: 0.9516\n",
      "Epoch 7/10\n",
      "25/25 [==============================] - 47s 2s/step - loss: 0.1101 - accuracy: 0.9660 - val_loss: 0.1500 - val_accuracy: 0.9460\n",
      "Epoch 8/10\n",
      "25/25 [==============================] - 46s 2s/step - loss: 0.0970 - accuracy: 0.9676 - val_loss: 0.1416 - val_accuracy: 0.9502\n",
      "Epoch 9/10\n",
      "25/25 [==============================] - 48s 2s/step - loss: 0.0864 - accuracy: 0.9742 - val_loss: 0.1309 - val_accuracy: 0.9554\n",
      "Epoch 10/10\n",
      "25/25 [==============================] - 46s 2s/step - loss: 0.0899 - accuracy: 0.9702 - val_loss: 0.1299 - val_accuracy: 0.9535\n"
     ]
    },
    {
     "data": {
      "text/plain": [
       "array([[1499,   42],\n",
       "       [  57,  531]], dtype=int64)"
      ]
     },
     "execution_count": 5,
     "metadata": {},
     "output_type": "execute_result"
    }
   ],
   "source": [
    "lstm_model = Sequential()\n",
    "lstm_model.add(Embedding(vocab_len, emb_dim, trainable = False, weights=[embedding_matrix]))\n",
    "lstm_model.add(LSTM(128, return_sequences=False))\n",
    "lstm_model.add(Dropout(0.5))\n",
    "lstm_model.add(Dense(1, activation = 'sigmoid'))\n",
    "lstm_model.compile(loss='binary_crossentropy', optimizer='adam', metrics=['accuracy'])\n",
    "print(lstm_model.summary())\n",
    "\n",
    "batch_size = 256\n",
    "epochs  = 10\n",
    "history = lstm_model.fit(X_train_pad, np.asarray(y_train), \n",
    "                         validation_data=(X_test_pad, np.asarray(y_test)), \n",
    "                         batch_size = batch_size, \n",
    "                         epochs = epochs)\n",
    "\n",
    "confusion_matrix(np.asarray(y_test), lstm_model.predict(X_test_pad) > 0.5)"
   ]
  },
  {
   "cell_type": "code",
   "execution_count": 6,
   "metadata": {
    "colab": {
     "base_uri": "https://localhost:8080/",
     "height": 462
    },
    "executionInfo": {
     "elapsed": 424,
     "status": "ok",
     "timestamp": 1629607061739,
     "user": {
      "displayName": "Joe D",
      "photoUrl": "https://lh3.googleusercontent.com/a-/AOh14Gh2FrpIrd824DHZWY69enxP1d0F3o6clM5Xb-cPBQ=s64",
      "userId": "15941325840610879189"
     },
     "user_tz": 240
    },
    "id": "dXzkCY2ks8KN",
    "outputId": "f47e12dc-b7e4-4a74-b199-b254e6edc364"
   },
   "outputs": [
    {
     "data": {
      "text/plain": [
       "Text(0.5, 1.0, 'Accuracy')"
      ]
     },
     "execution_count": 6,
     "metadata": {},
     "output_type": "execute_result"
    },
    {
     "data": {
      "image/png": "[encoded data removed]",
      "text/plain": [
       "<Figure size 1080x504 with 1 Axes>"
      ]
     },
     "metadata": {
      "needs_background": "light"
     },
     "output_type": "display_data"
    }
   ],
   "source": [
    "plt.figure(figsize=(15, 7))\n",
    "plt.plot(range(epochs), history.history['accuracy'])\n",
    "plt.plot(range(epochs), history.history['val_accuracy'])\n",
    "plt.legend(['training_acc', 'validation_acc'])\n",
    "plt.title('Accuracy')"
   ]
  },
  {
   "cell_type": "code",
   "execution_count": 7,
   "metadata": {
    "colab": {
     "base_uri": "https://localhost:8080/"
    },
    "executionInfo": {
     "elapsed": 7181,
     "status": "ok",
     "timestamp": 1629607453338,
     "user": {
      "displayName": "Joe D",
      "photoUrl": "https://lh3.googleusercontent.com/a-/AOh14Gh2FrpIrd824DHZWY69enxP1d0F3o6clM5Xb-cPBQ=s64",
      "userId": "15941325840610879189"
     },
     "user_tz": 240
    },
    "id": "33CO-oKnzTP7",
    "outputId": "01e303cc-b730-4121-f50f-65beacbd30eb"
   },
   "outputs": [
    {
     "name": "stdout",
     "output_type": "stream",
     "text": [
      "Model: \"sequential_1\"\n",
      "_________________________________________________________________\n",
      "Layer (type)                 Output Shape              Param #   \n",
      "=================================================================\n",
      "embedding_1 (Embedding)      (None, None, 300)         3000000   \n",
      "_________________________________________________________________\n",
      "gru (GRU)                    (None, 128)               165120    \n",
      "_________________________________________________________________\n",
      "dropout_1 (Dropout)          (None, 128)               0         \n",
      "_________________________________________________________________\n",
      "dense_1 (Dense)              (None, 1)                 129       \n",
      "=================================================================\n",
      "Total params: 3,165,249\n",
      "Trainable params: 165,249\n",
      "Non-trainable params: 3,000,000\n",
      "_________________________________________________________________\n",
      "None\n",
      "Epoch 1/10\n",
      "25/25 [==============================] - 38s 2s/step - loss: 0.5798 - accuracy: 0.7246 - val_loss: 0.4855 - val_accuracy: 0.7924\n",
      "Epoch 2/10\n",
      "25/25 [==============================] - 40s 2s/step - loss: 0.3690 - accuracy: 0.8545 - val_loss: 0.1871 - val_accuracy: 0.9389\n",
      "Epoch 3/10\n",
      "25/25 [==============================] - 39s 2s/step - loss: 0.1961 - accuracy: 0.9373 - val_loss: 0.1588 - val_accuracy: 0.9465\n",
      "Epoch 4/10\n",
      "25/25 [==============================] - 40s 2s/step - loss: 0.1421 - accuracy: 0.9529 - val_loss: 0.1429 - val_accuracy: 0.9507\n",
      "Epoch 5/10\n",
      "25/25 [==============================] - 40s 2s/step - loss: 0.1263 - accuracy: 0.9586 - val_loss: 0.1366 - val_accuracy: 0.9530\n",
      "Epoch 6/10\n",
      "25/25 [==============================] - 39s 2s/step - loss: 0.1125 - accuracy: 0.9640 - val_loss: 0.1290 - val_accuracy: 0.9554\n",
      "Epoch 7/10\n",
      "25/25 [==============================] - 40s 2s/step - loss: 0.1010 - accuracy: 0.9674 - val_loss: 0.1397 - val_accuracy: 0.9535\n",
      "Epoch 8/10\n",
      "25/25 [==============================] - 40s 2s/step - loss: 0.0955 - accuracy: 0.9684 - val_loss: 0.1266 - val_accuracy: 0.9544\n",
      "Epoch 9/10\n",
      "25/25 [==============================] - 39s 2s/step - loss: 0.0883 - accuracy: 0.9709 - val_loss: 0.1260 - val_accuracy: 0.9577\n",
      "Epoch 10/10\n",
      "25/25 [==============================] - 41s 2s/step - loss: 0.0797 - accuracy: 0.9753 - val_loss: 0.1262 - val_accuracy: 0.9568\n"
     ]
    },
    {
     "data": {
      "text/plain": [
       "array([[1509,   32],\n",
       "       [  60,  528]], dtype=int64)"
      ]
     },
     "execution_count": 7,
     "metadata": {},
     "output_type": "execute_result"
    }
   ],
   "source": [
    "emb_dim = embedding_matrix.shape[1]\n",
    "gru_model = Sequential()\n",
    "gru_model.add(Embedding(vocab_len, emb_dim, trainable = False, weights=[embedding_matrix]))\n",
    "gru_model.add(GRU(128, return_sequences=False))\n",
    "gru_model.add(Dropout(0.5))\n",
    "gru_model.add(Dense(1, activation = 'sigmoid'))\n",
    "gru_model.compile(loss='binary_crossentropy', optimizer='adam', metrics=['accuracy'])\n",
    "print(gru_model.summary())\n",
    "\n",
    "batch_size = 256\n",
    "epochs  = 10\n",
    "history = gru_model.fit(X_train_pad, np.asarray(y_train), \n",
    "                        validation_data=(X_test_pad, np.asarray(y_test)), \n",
    "                        batch_size = batch_size, epochs = epochs)\n",
    "\n",
    "confusion_matrix(np.asarray(y_test), gru_model.predict(X_test_pad) > 0.5)"
   ]
  },
  {
   "cell_type": "code",
   "execution_count": 8,
   "metadata": {
    "colab": {
     "base_uri": "https://localhost:8080/",
     "height": 462
    },
    "executionInfo": {
     "elapsed": 275,
     "status": "ok",
     "timestamp": 1629607198451,
     "user": {
      "displayName": "Joe D",
      "photoUrl": "https://lh3.googleusercontent.com/a-/AOh14Gh2FrpIrd824DHZWY69enxP1d0F3o6clM5Xb-cPBQ=s64",
      "userId": "15941325840610879189"
     },
     "user_tz": 240
    },
    "id": "Ub3kLBRSwrsr",
    "outputId": "40fc1b3f-adf8-4509-861d-23edfa18e817"
   },
   "outputs": [
    {
     "data": {
      "text/plain": [
       "Text(0.5, 1.0, 'Accuracy')"
      ]
     },
     "execution_count": 8,
     "metadata": {},
     "output_type": "execute_result"
    },
    {
     "data": {
      "image/png": "[encoded data removed]",
      "text/plain": [
       "<Figure size 1080x504 with 1 Axes>"
      ]
     },
     "metadata": {
      "needs_background": "light"
     },
     "output_type": "display_data"
    }
   ],
   "source": [
    "#plot accuracy\n",
    "plt.figure(figsize=(15, 7))\n",
    "plt.plot(range(epochs), history.history['accuracy'])\n",
    "plt.plot(range(epochs), history.history['val_accuracy'])\n",
    "plt.legend(['training_acc', 'validation_acc'])\n",
    "plt.title('Accuracy')"
   ]
  },
  {
   "cell_type": "code",
   "execution_count": null,
   "metadata": {},
   "outputs": [],
   "source": []
  }
 ],
 "metadata": {
  "colab": {
   "authorship_tag": "ABX9TyNZdR4uUMqVye1ekUB7ILzS",
   "mount_file_id": "1MWOc8hpYo5vwzVjlBHU3JLZ_NlEroefA",
   "name": "LSTM and GRU New.ipynb",
   "provenance": []
  },
  "kernelspec": {
   "display_name": "Python 3",
   "language": "python",
   "name": "python3"
  },
  "language_info": {
   "codemirror_mode": {
    "name": "ipython",
    "version": 3
   },
   "file_extension": ".py",
   "mimetype": "text/x-python",
   "name": "python",
   "nbconvert_exporter": "python",
   "pygments_lexer": "ipython3",
   "version": "3.8.11"
  }
 },
 "nbformat": 4,
 "nbformat_minor": 1
}
