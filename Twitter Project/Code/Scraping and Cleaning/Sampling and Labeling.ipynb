{
 "cells": [
  {
   "cell_type": "code",
   "execution_count": null,
   "id": "fd4eeca6",
   "metadata": {},
   "outputs": [],
   "source": [
    "from cleaning_tools import *\n",
    "from scraping_tools import *\n",
    "import pandas as pd\n",
    "from joblib import load, dump"
   ]
  },
  {
   "cell_type": "code",
   "execution_count": null,
   "id": "cc483711",
   "metadata": {},
   "outputs": [],
   "source": [
    "download_files()\n",
    "get_data_to_label()\n",
    "gather_fns_and_fps('split datasets\\\\test 10-25.csv')"
   ]
  },
  {
   "cell_type": "code",
   "execution_count": null,
   "id": "6eb3818d",
   "metadata": {},
   "outputs": [],
   "source": [
    "label_new_data()\n",
    "filtered_to_clean()\n",
    "\n",
    "data = pd.read_csv('clean.csv')\n",
    "print(data['injury_report'].value_counts())\n",
    "\n",
    "upload_files()"
   ]
  },
  {
   "cell_type": "code",
   "execution_count": null,
   "id": "f5acda7b",
   "metadata": {},
   "outputs": [],
   "source": [
    "gather_fns_and_fps('split datasets\\\\train 10-25.csv')"
   ]
  },
  {
   "cell_type": "code",
   "execution_count": null,
   "id": "13abf2e6",
   "metadata": {},
   "outputs": [],
   "source": [
    "filtered_to_clean()"
   ]
  },
  {
   "cell_type": "code",
   "execution_count": null,
   "id": "fc1742da",
   "metadata": {},
   "outputs": [],
   "source": [
    "data = pd.read_csv('filtered2.csv')\n",
    "data['injury_report'].value_counts()"
   ]
  },
  {
   "cell_type": "code",
   "execution_count": null,
   "id": "913db2a2",
   "metadata": {},
   "outputs": [],
   "source": []
  }
 ],
 "metadata": {
  "kernelspec": {
   "display_name": "Python 3 (ipykernel)",
   "language": "python",
   "name": "python3"
  },
  "language_info": {
   "codemirror_mode": {
    "name": "ipython",
    "version": 3
   },
   "file_extension": ".py",
   "mimetype": "text/x-python",
   "name": "python",
   "nbconvert_exporter": "python",
   "pygments_lexer": "ipython3",
   "version": "3.9.6"
  }
 },
 "nbformat": 4,
 "nbformat_minor": 5
}
