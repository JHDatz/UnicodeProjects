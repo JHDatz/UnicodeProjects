{
 "cells": [
  {
   "cell_type": "code",
   "execution_count": 14,
   "id": "fd4eeca6",
   "metadata": {},
   "outputs": [],
   "source": [
    "from cleaning_tools import *\n",
    "from scraping_tools import *\n",
    "import pandas as pd\n",
    "from joblib import load, dump"
   ]
  },
  {
   "cell_type": "code",
   "execution_count": null,
   "id": "181eda87",
   "metadata": {},
   "outputs": [],
   "source": [
    "data = pd.read_csv('clean.csv')\n",
    "data['boolNB_predictions'] = bNB.predict(v_bool.transform(data['clean']))\n",
    "data['lgr_predictions'] = lgr.predict(v_tfidf.transform(data['clean']))\n",
    "fn_lgr = data[(data['injury_report'] == 1) & (data['lgr_predictions'] == 0)]\n",
    "fp_lgr = data[(data['injury_report'] == 0) & (data['lgr_predictions'] == 1)]"
   ]
  },
  {
   "cell_type": "code",
   "execution_count": null,
   "id": "a96029d4",
   "metadata": {},
   "outputs": [],
   "source": [
    "print(len(fn_lgr['tweet'].drop_duplicates()))\n",
    "\n",
    "for lines in set(fn_lgr['tweet']) - set(fn_bNB['tweet']):\n",
    "    print(lines + '\\n')"
   ]
  },
  {
   "cell_type": "code",
   "execution_count": null,
   "id": "532fa1e4",
   "metadata": {},
   "outputs": [],
   "source": [
    "print(len(fp_lgr['tweet'].drop_duplicates()))\n",
    "\n",
    "for lines in set(fp_lgr['tweet']) - set(fp_bNB['tweet']):\n",
    "    print(lines + '\\n')"
   ]
  },
  {
   "cell_type": "code",
   "execution_count": 2,
   "id": "6eb3818d",
   "metadata": {},
   "outputs": [],
   "source": [
    "data = pd.read_csv('filtered.csv')\n",
    "samples = pd.read_csv('sampled.csv')\n",
    "\n",
    "for i in range(len(samples)):\n",
    "    data.at[samples['Unnamed: 0'][i], 'injury_report'] = samples['injury_report'][i]\n",
    "    \n",
    "data.to_csv('filtered.csv', index=False)"
   ]
  },
  {
   "cell_type": "code",
   "execution_count": 3,
   "id": "50449d19",
   "metadata": {},
   "outputs": [],
   "source": [
    "data = data[data['injury_report'] == 'x']\n",
    "data = data[['injury_report', 'tweet']]\n",
    "data.drop_duplicates(inplace = True)\n",
    "data.dropna(inplace = True)\n",
    "data = data.sample(100000)\n",
    "data['clean'] = data['tweet'].apply(lambda txt: clean_text(txt))"
   ]
  },
  {
   "cell_type": "code",
   "execution_count": 4,
   "id": "3c4abf4f",
   "metadata": {},
   "outputs": [],
   "source": [
    "lgr = load('logistic_regression.joblib')\n",
    "rfbool = load('random_forest_bool.joblib')\n",
    "rftfidf = load('random_forest_tfidf.joblib')\n",
    "bNB = load('bernoulliNB.joblib')\n",
    "kNN = load('kNN.joblib')\n",
    "svm = load('svm.joblib')\n",
    "v_tfidf = load('tfidf.joblib')\n",
    "v_bool = load('bool.joblib')\n",
    "v_count = load('count.joblib')"
   ]
  },
  {
   "cell_type": "code",
   "execution_count": 5,
   "id": "9c6f32cb",
   "metadata": {},
   "outputs": [],
   "source": [
    "data['boolNB_predictions'] = bNB.predict(v_bool.transform(data['clean']))\n",
    "data['lgr_predictions'] = lgr.predict(v_tfidf.transform(data['clean']))\n",
    "positives = data[data['lgr_predictions'] == 1]\n",
    "positives = positives[['injury_report', 'tweet']]\n",
    "positives.to_csv('positive_samples.csv')"
   ]
  },
  {
   "cell_type": "code",
   "execution_count": 6,
   "id": "1fa4ae74",
   "metadata": {},
   "outputs": [],
   "source": [
    "data = pd.read_csv('filtered.csv')\n",
    "samples = pd.read_csv('positive_samples.csv')\n",
    "\n",
    "for i in range(len(samples)):\n",
    "    data.at[samples['Unnamed: 0'][i], 'injury_report'] = samples['injury_report'][i]\n",
    "    \n",
    "data.to_csv('filtered.csv', index=False)"
   ]
  },
  {
   "cell_type": "code",
   "execution_count": 7,
   "id": "a0bb845f",
   "metadata": {},
   "outputs": [],
   "source": [
    "# Make sure the duplicate data (example: retweets) picked up is already labeled.\n",
    "\n",
    "data = pd.read_csv('filtered.csv')\n",
    "\n",
    "tweets = data[data['injury_report'] != 'x']['tweet'].value_counts(ascending=False)\n",
    "tweets = tweets[tweets > 1].index\n",
    "\n",
    "for i in range(len(tweets)):\n",
    "    \n",
    "    if '0' in list(data[data['tweet'] == tweets[i]]['injury_report']):\n",
    "        data.loc[data[data['tweet'] == tweets[i]].index, 'injury_report'] = '0'\n",
    "        \n",
    "    elif '1' in list(data[data['tweet'] == tweets[i]]['injury_report']):\n",
    "        data.loc[data[data['tweet'] == tweets[i]].index, 'injury_report'] = '1'"
   ]
  },
  {
   "cell_type": "code",
   "execution_count": 9,
   "id": "a71082d9",
   "metadata": {},
   "outputs": [
    {
     "data": {
      "text/plain": [
       "x    930975\n",
       "0     23111\n",
       "1      2513\n",
       "Name: injury_report, dtype: int64"
      ]
     },
     "execution_count": 9,
     "metadata": {},
     "output_type": "execute_result"
    }
   ],
   "source": [
    "data = data[['injury_report', 'tweet']]\n",
    "data.drop_duplicates(inplace = True)\n",
    "data['injury_report'].value_counts()"
   ]
  },
  {
   "cell_type": "code",
   "execution_count": 12,
   "id": "13abf2e6",
   "metadata": {},
   "outputs": [],
   "source": [
    "filtered_to_clean()"
   ]
  },
  {
   "cell_type": "code",
   "execution_count": null,
   "id": "9ae0e95f",
   "metadata": {},
   "outputs": [],
   "source": []
  }
 ],
 "metadata": {
  "kernelspec": {
   "display_name": "Python 3",
   "language": "python",
   "name": "python3"
  },
  "language_info": {
   "codemirror_mode": {
    "name": "ipython",
    "version": 3
   },
   "file_extension": ".py",
   "mimetype": "text/x-python",
   "name": "python",
   "nbconvert_exporter": "python",
   "pygments_lexer": "ipython3",
   "version": "3.8.11"
  }
 },
 "nbformat": 4,
 "nbformat_minor": 5
}
