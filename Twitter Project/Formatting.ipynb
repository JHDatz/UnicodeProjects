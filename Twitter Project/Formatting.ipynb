{
 "cells": [
  {
   "cell_type": "code",
   "execution_count": 25,
   "metadata": {},
   "outputs": [],
   "source": [
    "import pandas as pd\n",
    "\n",
    "data = pd.read_csv('merged.csv')"
   ]
  },
  {
   "cell_type": "code",
   "execution_count": 26,
   "metadata": {},
   "outputs": [],
   "source": [
    "def ifelse(boolean, ifValue, elseValue):\n",
    "    if boolean:\n",
    "        return ifValue\n",
    "    else:\n",
    "        return elseValue"
   ]
  },
  {
   "cell_type": "code",
   "execution_count": 27,
   "metadata": {},
   "outputs": [],
   "source": [
    "data['urls'] = data['urls'].apply(lambda x: x.lstrip(\"[\").rstrip(\"]\"))\n",
    "data['link_present'] = data['urls'].apply(lambda x: ifelse(len(x) > 0, 1, 0))\n",
    "data['photos'] = data['photos'].apply(lambda x: x.lstrip(\"[\").rstrip(\"]\"))\n",
    "data['photo_present'] = data['photos'].apply(lambda x: ifelse(len(x) > 0, 1, 0))\n",
    "data['retweet'] = data['retweet'].apply(lambda x: ifelse(x, 1, 0))\n",
    "data['injury_report'] = 'x'"
   ]
  },
  {
   "cell_type": "code",
   "execution_count": 31,
   "metadata": {},
   "outputs": [],
   "source": [
    "data = data[['injury_report', 'retweet', 'photo_present', 'link_present', 'replies_count', 'retweets_count',\n",
    "     'likes_count', 'username', 'tweet']]"
   ]
  },
  {
   "cell_type": "code",
   "execution_count": 32,
   "metadata": {},
   "outputs": [],
   "source": [
    "data.to_csv('filtered.csv', index=False)"
   ]
  },
  {
   "cell_type": "code",
   "execution_count": null,
   "metadata": {},
   "outputs": [],
   "source": []
  }
 ],
 "metadata": {
  "kernelspec": {
   "display_name": "Python 3",
   "language": "python",
   "name": "python3"
  },
  "language_info": {
   "codemirror_mode": {
    "name": "ipython",
    "version": 3
   },
   "file_extension": ".py",
   "mimetype": "text/x-python",
   "name": "python",
   "nbconvert_exporter": "python",
   "pygments_lexer": "ipython3",
   "version": "3.8.5"
  }
 },
 "nbformat": 4,
 "nbformat_minor": 4
}
